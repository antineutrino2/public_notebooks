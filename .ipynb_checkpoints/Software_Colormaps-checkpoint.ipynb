{
 "cells": [
  {
   "cell_type": "markdown",
   "metadata": {},
   "source": [
    "### Colormap File Builder for Geographix and IHS Kingdom\n",
    "\n",
    "I am tired of the crappy colorbar selections in Kingdom and Geographix. Matplotlib provides a great selection of colorbars, so I reverse engineered the Geographix and Kingdom colorbar formats to convert all of the matplotlib colorbars for use in these programs. The script loops over all of the colorbar formats in matplotlib, converts them, and exports them to folder locations specified near the top of the script. I also allow you to set the number of colors for each colorbar. For every new number of colors, I create a new subfolder to contain them. \n",
    "\n",
    "For IHS kingdom colorbars, this creates a .CLM file. It's an ASCII format file. Whenever you select the colorbar for use from Kingdom, Kingdom will automatically create a .CLB file. Remember, Kingdom will deafult to search for .CLB files, so you have to open the search to see .CLM files when selecting a colorbar. \n",
    "\n",
    "For Geographix colorbars, this creates a .pal colormap that can be directly used. "
   ]
  },
  {
   "cell_type": "code",
   "execution_count": null,
   "metadata": {},
   "outputs": [],
   "source": [
    "import os\n",
    "import pandas as pd\n",
    "import numpy as np\n",
    "import matplotlib.pyplot as plt\n",
    "from matplotlib import cm\n",
    "from matplotlib.colors import ListedColormap, LinearSegmentedColormap\n",
    "\n",
    "# Directories for Geographix and SMT colorbars\n",
    "ggxdir = \"\"\n",
    "smtdir = \"\"\n",
    "\n",
    "# How many colors in the colorbar.\n",
    "# Each ncolors list element creates a new subfolder of colorbars\n",
    "ncolors = [10,20,50,100,230]\n",
    "\n",
    "colormaps = plt.colormaps()\n",
    "\n",
    "for nc in ncolors:\n",
    "    for color in colormaps:\n",
    "        # Get Matplotlib Colormaps\n",
    "        which = color\n",
    "        name = \"_\"+which+\"_\"+str(nc)\n",
    "        colmap = cm.get_cmap(which,nc)\n",
    "        # Make IHS Kingdom Colorbars\n",
    "        df = (pd.DataFrame(colmap(range(nc)))*255).drop(3,axis=1).astype('int32')\n",
    "        fldr = smtdir+\"ncolors_\"+str(nc)+\"/\"\n",
    "        if not os.path.exists(fldr): os.makedirs(fldr)\n",
    "        df.to_csv(fldr+name+\".clm\",header=None,index=None,sep=\" \")\n",
    "        # Make Geographix Colorbars\n",
    "        df[3] = 0\n",
    "        df = pd.concat([pd.DataFrame([[156,30,nc,0]],columns=df.columns),df])\n",
    "        fldr = ggxdir+\"ncolors_\"+str(nc)+\"/\"\n",
    "        if not os.path.exists(fldr): os.makedirs(fldr)\n",
    "        df.astype('int8').to_records(index=False).tofile(fldr+name+\".pal\")\n",
    "print('done')"
   ]
  }
 ],
 "metadata": {
  "kernelspec": {
   "display_name": "Python 3",
   "language": "python",
   "name": "python3"
  },
  "language_info": {
   "codemirror_mode": {
    "name": "ipython",
    "version": 3
   },
   "file_extension": ".py",
   "mimetype": "text/x-python",
   "name": "python",
   "nbconvert_exporter": "python",
   "pygments_lexer": "ipython3",
   "version": "3.7.3"
  }
 },
 "nbformat": 4,
 "nbformat_minor": 2
}
