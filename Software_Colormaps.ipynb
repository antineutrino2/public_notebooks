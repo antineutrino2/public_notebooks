import os
import pandas as pd
import numpy as np
import matplotlib.pyplot as plt
from matplotlib import cm
from matplotlib.colors import ListedColormap, LinearSegmentedColormap

# Directories for Geographix and SMT colorbars
ggxdir = ""
smtdir = ""

ncolors = [10,20,50,100,230]

colormaps = plt.colormaps()

for nc in ncolors:
    for color in colormaps:
        # Get Matplotlib Colormaps
        which = color
        name = "_"+which+"_"+str(nc)
        colmap = cm.get_cmap(which,nc)
        # Make IHS Kingdom Colorbars
        df = (pd.DataFrame(colmap(range(nc)))*255).drop(3,axis=1).astype('int32')
        fldr = smtdir+"ncolors_"+str(nc)+"/"
        if not os.path.exists(fldr): os.makedirs(fldr)
        df.to_csv(fldr+name+".clm",header=None,index=None,sep=" ")
        # Make Geographix Colorbars
        df[3] = 0
        df = pd.concat([pd.DataFrame([[156,30,nc,0]],columns=df.columns),df])
        fldr = ggxdir+"ncolors_"+str(nc)+"/"
        if not os.path.exists(fldr): os.makedirs(fldr)
        df.astype('int8').to_records(index=False).tofile(fldr+name+".pal")
print('done')
